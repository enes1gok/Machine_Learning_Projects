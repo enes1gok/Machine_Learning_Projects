{
 "cells": [
  {
   "cell_type": "code",
   "execution_count": 1,
   "id": "9f348d29",
   "metadata": {},
   "outputs": [],
   "source": [
    "from sklearn.datasets import make_regression"
   ]
  },
  {
   "cell_type": "code",
   "execution_count": 2,
   "id": "69545047",
   "metadata": {},
   "outputs": [],
   "source": [
    "X, y = make_regression(n_samples=1000, random_state=0)"
   ]
  },
  {
   "cell_type": "code",
   "execution_count": 11,
   "id": "a2f477c1",
   "metadata": {},
   "outputs": [
    {
     "data": {
      "text/html": [
       "<div>\n",
       "<style scoped>\n",
       "    .dataframe tbody tr th:only-of-type {\n",
       "        vertical-align: middle;\n",
       "    }\n",
       "\n",
       "    .dataframe tbody tr th {\n",
       "        vertical-align: top;\n",
       "    }\n",
       "\n",
       "    .dataframe thead th {\n",
       "        text-align: right;\n",
       "    }\n",
       "</style>\n",
       "<table border=\"1\" class=\"dataframe\">\n",
       "  <thead>\n",
       "    <tr style=\"text-align: right;\">\n",
       "      <th></th>\n",
       "      <th>0</th>\n",
       "      <th>1</th>\n",
       "      <th>2</th>\n",
       "      <th>3</th>\n",
       "      <th>4</th>\n",
       "      <th>5</th>\n",
       "      <th>6</th>\n",
       "      <th>7</th>\n",
       "      <th>8</th>\n",
       "      <th>9</th>\n",
       "      <th>...</th>\n",
       "      <th>90</th>\n",
       "      <th>91</th>\n",
       "      <th>92</th>\n",
       "      <th>93</th>\n",
       "      <th>94</th>\n",
       "      <th>95</th>\n",
       "      <th>96</th>\n",
       "      <th>97</th>\n",
       "      <th>98</th>\n",
       "      <th>99</th>\n",
       "    </tr>\n",
       "  </thead>\n",
       "  <tbody>\n",
       "    <tr>\n",
       "      <th>0</th>\n",
       "      <td>0.419297</td>\n",
       "      <td>-1.548930</td>\n",
       "      <td>0.652187</td>\n",
       "      <td>-0.494083</td>\n",
       "      <td>-0.201393</td>\n",
       "      <td>-0.839818</td>\n",
       "      <td>1.724759</td>\n",
       "      <td>1.042198</td>\n",
       "      <td>-0.516023</td>\n",
       "      <td>0.390785</td>\n",
       "      <td>...</td>\n",
       "      <td>-0.184231</td>\n",
       "      <td>0.167096</td>\n",
       "      <td>0.893098</td>\n",
       "      <td>0.288486</td>\n",
       "      <td>0.225738</td>\n",
       "      <td>-1.407032</td>\n",
       "      <td>0.478204</td>\n",
       "      <td>-0.813684</td>\n",
       "      <td>-2.038843</td>\n",
       "      <td>0.900003</td>\n",
       "    </tr>\n",
       "    <tr>\n",
       "      <th>1</th>\n",
       "      <td>-2.069472</td>\n",
       "      <td>0.727128</td>\n",
       "      <td>0.097597</td>\n",
       "      <td>-0.891146</td>\n",
       "      <td>-0.482779</td>\n",
       "      <td>0.233355</td>\n",
       "      <td>-1.886981</td>\n",
       "      <td>0.803849</td>\n",
       "      <td>0.077035</td>\n",
       "      <td>-0.952394</td>\n",
       "      <td>...</td>\n",
       "      <td>-0.338259</td>\n",
       "      <td>-1.209114</td>\n",
       "      <td>2.710790</td>\n",
       "      <td>-0.123498</td>\n",
       "      <td>-1.556324</td>\n",
       "      <td>1.229999</td>\n",
       "      <td>-0.875929</td>\n",
       "      <td>-0.359781</td>\n",
       "      <td>-0.745139</td>\n",
       "      <td>-0.550506</td>\n",
       "    </tr>\n",
       "    <tr>\n",
       "      <th>2</th>\n",
       "      <td>-0.375960</td>\n",
       "      <td>0.664144</td>\n",
       "      <td>1.022392</td>\n",
       "      <td>1.303181</td>\n",
       "      <td>-1.098289</td>\n",
       "      <td>-1.083427</td>\n",
       "      <td>0.122531</td>\n",
       "      <td>1.094167</td>\n",
       "      <td>-0.711286</td>\n",
       "      <td>-1.426938</td>\n",
       "      <td>...</td>\n",
       "      <td>-0.932570</td>\n",
       "      <td>-0.281575</td>\n",
       "      <td>-1.431798</td>\n",
       "      <td>-0.965954</td>\n",
       "      <td>-0.147637</td>\n",
       "      <td>2.285601</td>\n",
       "      <td>1.710837</td>\n",
       "      <td>0.504815</td>\n",
       "      <td>-2.832012</td>\n",
       "      <td>-0.799786</td>\n",
       "    </tr>\n",
       "    <tr>\n",
       "      <th>3</th>\n",
       "      <td>0.317490</td>\n",
       "      <td>0.464113</td>\n",
       "      <td>-0.334165</td>\n",
       "      <td>-0.918614</td>\n",
       "      <td>-1.025451</td>\n",
       "      <td>0.237365</td>\n",
       "      <td>-0.188368</td>\n",
       "      <td>1.123532</td>\n",
       "      <td>0.483046</td>\n",
       "      <td>0.027773</td>\n",
       "      <td>...</td>\n",
       "      <td>0.391121</td>\n",
       "      <td>-0.858193</td>\n",
       "      <td>0.415863</td>\n",
       "      <td>1.083776</td>\n",
       "      <td>0.196285</td>\n",
       "      <td>-0.099130</td>\n",
       "      <td>-0.819252</td>\n",
       "      <td>0.245648</td>\n",
       "      <td>0.408164</td>\n",
       "      <td>0.387600</td>\n",
       "    </tr>\n",
       "    <tr>\n",
       "      <th>4</th>\n",
       "      <td>0.509688</td>\n",
       "      <td>-1.270666</td>\n",
       "      <td>0.799706</td>\n",
       "      <td>0.149877</td>\n",
       "      <td>-1.752411</td>\n",
       "      <td>0.914337</td>\n",
       "      <td>1.017711</td>\n",
       "      <td>0.659393</td>\n",
       "      <td>-0.100313</td>\n",
       "      <td>1.043305</td>\n",
       "      <td>...</td>\n",
       "      <td>1.251918</td>\n",
       "      <td>-0.994213</td>\n",
       "      <td>1.383385</td>\n",
       "      <td>-0.987929</td>\n",
       "      <td>-1.489558</td>\n",
       "      <td>0.521859</td>\n",
       "      <td>1.950441</td>\n",
       "      <td>0.081874</td>\n",
       "      <td>-0.711578</td>\n",
       "      <td>0.489642</td>\n",
       "    </tr>\n",
       "  </tbody>\n",
       "</table>\n",
       "<p>5 rows × 100 columns</p>\n",
       "</div>"
      ],
      "text/plain": [
       "         0         1         2         3         4         5         6   \\\n",
       "0  0.419297 -1.548930  0.652187 -0.494083 -0.201393 -0.839818  1.724759   \n",
       "1 -2.069472  0.727128  0.097597 -0.891146 -0.482779  0.233355 -1.886981   \n",
       "2 -0.375960  0.664144  1.022392  1.303181 -1.098289 -1.083427  0.122531   \n",
       "3  0.317490  0.464113 -0.334165 -0.918614 -1.025451  0.237365 -0.188368   \n",
       "4  0.509688 -1.270666  0.799706  0.149877 -1.752411  0.914337  1.017711   \n",
       "\n",
       "         7         8         9   ...        90        91        92        93  \\\n",
       "0  1.042198 -0.516023  0.390785  ... -0.184231  0.167096  0.893098  0.288486   \n",
       "1  0.803849  0.077035 -0.952394  ... -0.338259 -1.209114  2.710790 -0.123498   \n",
       "2  1.094167 -0.711286 -1.426938  ... -0.932570 -0.281575 -1.431798 -0.965954   \n",
       "3  1.123532  0.483046  0.027773  ...  0.391121 -0.858193  0.415863  1.083776   \n",
       "4  0.659393 -0.100313  1.043305  ...  1.251918 -0.994213  1.383385 -0.987929   \n",
       "\n",
       "         94        95        96        97        98        99  \n",
       "0  0.225738 -1.407032  0.478204 -0.813684 -2.038843  0.900003  \n",
       "1 -1.556324  1.229999 -0.875929 -0.359781 -0.745139 -0.550506  \n",
       "2 -0.147637  2.285601  1.710837  0.504815 -2.832012 -0.799786  \n",
       "3  0.196285 -0.099130 -0.819252  0.245648  0.408164  0.387600  \n",
       "4 -1.489558  0.521859  1.950441  0.081874 -0.711578  0.489642  \n",
       "\n",
       "[5 rows x 100 columns]"
      ]
     },
     "execution_count": 11,
     "metadata": {},
     "output_type": "execute_result"
    }
   ],
   "source": [
    "import pandas as pd\n",
    "X = pd.DataFrame(X)\n",
    "X.head()"
   ]
  },
  {
   "cell_type": "code",
   "execution_count": 12,
   "id": "c685a7b7",
   "metadata": {},
   "outputs": [
    {
     "data": {
      "text/plain": [
       "(1000, 100)"
      ]
     },
     "execution_count": 12,
     "metadata": {},
     "output_type": "execute_result"
    }
   ],
   "source": [
    "X.shape"
   ]
  },
  {
   "cell_type": "code",
   "execution_count": 21,
   "id": "21d7b7c2",
   "metadata": {},
   "outputs": [],
   "source": [
    "from sklearn.model_selection import train_test_split"
   ]
  },
  {
   "cell_type": "code",
   "execution_count": 22,
   "id": "57272cc6",
   "metadata": {},
   "outputs": [],
   "source": [
    "X_train, X_test, y_train, y_test = train_test_split(X, y, test_size=0.2)"
   ]
  },
  {
   "cell_type": "code",
   "execution_count": 13,
   "id": "fafca7de",
   "metadata": {},
   "outputs": [],
   "source": [
    "from sklearn.linear_model import LinearRegression"
   ]
  },
  {
   "cell_type": "code",
   "execution_count": 14,
   "id": "536ff84a",
   "metadata": {},
   "outputs": [],
   "source": [
    "lr = LinearRegression()"
   ]
  },
  {
   "cell_type": "code",
   "execution_count": 15,
   "id": "18474132",
   "metadata": {},
   "outputs": [],
   "source": [
    "from sklearn.model_selection import cross_validate"
   ]
  },
  {
   "cell_type": "code",
   "execution_count": 16,
   "id": "445101e4",
   "metadata": {},
   "outputs": [],
   "source": [
    "result = cross_validate(lr, X, y)"
   ]
  },
  {
   "cell_type": "code",
   "execution_count": 17,
   "id": "a4af9c04",
   "metadata": {},
   "outputs": [
    {
     "data": {
      "text/plain": [
       "array([1., 1., 1., 1., 1.])"
      ]
     },
     "execution_count": 17,
     "metadata": {},
     "output_type": "execute_result"
    }
   ],
   "source": [
    "result['test_score']"
   ]
  },
  {
   "cell_type": "markdown",
   "id": "22740923",
   "metadata": {},
   "source": [
    "# Automatic Parameter Searches"
   ]
  },
  {
   "cell_type": "code",
   "execution_count": 18,
   "id": "d611d096",
   "metadata": {},
   "outputs": [],
   "source": [
    "from sklearn.datasets import fetch_california_housing"
   ]
  },
  {
   "cell_type": "code",
   "execution_count": 20,
   "id": "6b1f69ad",
   "metadata": {},
   "outputs": [],
   "source": [
    "X, y = fetch_california_housing(return_X_y=True, as_frame=True)"
   ]
  },
  {
   "cell_type": "code",
   "execution_count": 23,
   "id": "c15134bd",
   "metadata": {},
   "outputs": [],
   "source": [
    "X_train, X_test, y_train, y_test = train_test_split(X, y, test_size=0.2)"
   ]
  },
  {
   "cell_type": "code",
   "execution_count": 24,
   "id": "7678d4d3",
   "metadata": {},
   "outputs": [],
   "source": [
    "from sklearn.model_selection import RandomizedSearchCV"
   ]
  },
  {
   "cell_type": "code",
   "execution_count": 25,
   "id": "4f5c4eaa",
   "metadata": {},
   "outputs": [],
   "source": [
    "from scipy.stats import randint"
   ]
  },
  {
   "cell_type": "code",
   "execution_count": 29,
   "id": "96455fa8",
   "metadata": {},
   "outputs": [],
   "source": [
    "param_distributions = {'n_estimators' : randint(1,5),\n",
    "                      'max_depth' : randint(5,10)}"
   ]
  },
  {
   "cell_type": "code",
   "execution_count": 30,
   "id": "65881372",
   "metadata": {},
   "outputs": [],
   "source": [
    "from sklearn.ensemble import RandomForestRegressor"
   ]
  },
  {
   "cell_type": "code",
   "execution_count": 31,
   "id": "2dbd7dc3",
   "metadata": {},
   "outputs": [],
   "source": [
    "search = RandomizedSearchCV(estimator = RandomForestRegressor(random_state=17),\n",
    "                           n_iter = 5,\n",
    "                           param_distributions = param_distributions,\n",
    "                           random_state=17)"
   ]
  },
  {
   "cell_type": "code",
   "execution_count": 32,
   "id": "d92e219d",
   "metadata": {},
   "outputs": [
    {
     "data": {
      "text/html": [
       "<style>#sk-container-id-1 {color: black;background-color: white;}#sk-container-id-1 pre{padding: 0;}#sk-container-id-1 div.sk-toggleable {background-color: white;}#sk-container-id-1 label.sk-toggleable__label {cursor: pointer;display: block;width: 100%;margin-bottom: 0;padding: 0.3em;box-sizing: border-box;text-align: center;}#sk-container-id-1 label.sk-toggleable__label-arrow:before {content: \"▸\";float: left;margin-right: 0.25em;color: #696969;}#sk-container-id-1 label.sk-toggleable__label-arrow:hover:before {color: black;}#sk-container-id-1 div.sk-estimator:hover label.sk-toggleable__label-arrow:before {color: black;}#sk-container-id-1 div.sk-toggleable__content {max-height: 0;max-width: 0;overflow: hidden;text-align: left;background-color: #f0f8ff;}#sk-container-id-1 div.sk-toggleable__content pre {margin: 0.2em;color: black;border-radius: 0.25em;background-color: #f0f8ff;}#sk-container-id-1 input.sk-toggleable__control:checked~div.sk-toggleable__content {max-height: 200px;max-width: 100%;overflow: auto;}#sk-container-id-1 input.sk-toggleable__control:checked~label.sk-toggleable__label-arrow:before {content: \"▾\";}#sk-container-id-1 div.sk-estimator input.sk-toggleable__control:checked~label.sk-toggleable__label {background-color: #d4ebff;}#sk-container-id-1 div.sk-label input.sk-toggleable__control:checked~label.sk-toggleable__label {background-color: #d4ebff;}#sk-container-id-1 input.sk-hidden--visually {border: 0;clip: rect(1px 1px 1px 1px);clip: rect(1px, 1px, 1px, 1px);height: 1px;margin: -1px;overflow: hidden;padding: 0;position: absolute;width: 1px;}#sk-container-id-1 div.sk-estimator {font-family: monospace;background-color: #f0f8ff;border: 1px dotted black;border-radius: 0.25em;box-sizing: border-box;margin-bottom: 0.5em;}#sk-container-id-1 div.sk-estimator:hover {background-color: #d4ebff;}#sk-container-id-1 div.sk-parallel-item::after {content: \"\";width: 100%;border-bottom: 1px solid gray;flex-grow: 1;}#sk-container-id-1 div.sk-label:hover label.sk-toggleable__label {background-color: #d4ebff;}#sk-container-id-1 div.sk-serial::before {content: \"\";position: absolute;border-left: 1px solid gray;box-sizing: border-box;top: 0;bottom: 0;left: 50%;z-index: 0;}#sk-container-id-1 div.sk-serial {display: flex;flex-direction: column;align-items: center;background-color: white;padding-right: 0.2em;padding-left: 0.2em;position: relative;}#sk-container-id-1 div.sk-item {position: relative;z-index: 1;}#sk-container-id-1 div.sk-parallel {display: flex;align-items: stretch;justify-content: center;background-color: white;position: relative;}#sk-container-id-1 div.sk-item::before, #sk-container-id-1 div.sk-parallel-item::before {content: \"\";position: absolute;border-left: 1px solid gray;box-sizing: border-box;top: 0;bottom: 0;left: 50%;z-index: -1;}#sk-container-id-1 div.sk-parallel-item {display: flex;flex-direction: column;z-index: 1;position: relative;background-color: white;}#sk-container-id-1 div.sk-parallel-item:first-child::after {align-self: flex-end;width: 50%;}#sk-container-id-1 div.sk-parallel-item:last-child::after {align-self: flex-start;width: 50%;}#sk-container-id-1 div.sk-parallel-item:only-child::after {width: 0;}#sk-container-id-1 div.sk-dashed-wrapped {border: 1px dashed gray;margin: 0 0.4em 0.5em 0.4em;box-sizing: border-box;padding-bottom: 0.4em;background-color: white;}#sk-container-id-1 div.sk-label label {font-family: monospace;font-weight: bold;display: inline-block;line-height: 1.2em;}#sk-container-id-1 div.sk-label-container {text-align: center;}#sk-container-id-1 div.sk-container {/* jupyter's `normalize.less` sets `[hidden] { display: none; }` but bootstrap.min.css set `[hidden] { display: none !important; }` so we also need the `!important` here to be able to override the default hidden behavior on the sphinx rendered scikit-learn.org. See: https://github.com/scikit-learn/scikit-learn/issues/21755 */display: inline-block !important;position: relative;}#sk-container-id-1 div.sk-text-repr-fallback {display: none;}</style><div id=\"sk-container-id-1\" class=\"sk-top-container\"><div class=\"sk-text-repr-fallback\"><pre>RandomizedSearchCV(estimator=RandomForestRegressor(random_state=17), n_iter=5,\n",
       "                   param_distributions={&#x27;max_depth&#x27;: &lt;scipy.stats._distn_infrastructure.rv_discrete_frozen object at 0x000001256A525220&gt;,\n",
       "                                        &#x27;n_estimators&#x27;: &lt;scipy.stats._distn_infrastructure.rv_discrete_frozen object at 0x000001256A43E8B0&gt;},\n",
       "                   random_state=17)</pre><b>In a Jupyter environment, please rerun this cell to show the HTML representation or trust the notebook. <br />On GitHub, the HTML representation is unable to render, please try loading this page with nbviewer.org.</b></div><div class=\"sk-container\" hidden><div class=\"sk-item sk-dashed-wrapped\"><div class=\"sk-label-container\"><div class=\"sk-label sk-toggleable\"><input class=\"sk-toggleable__control sk-hidden--visually\" id=\"sk-estimator-id-1\" type=\"checkbox\" ><label for=\"sk-estimator-id-1\" class=\"sk-toggleable__label sk-toggleable__label-arrow\">RandomizedSearchCV</label><div class=\"sk-toggleable__content\"><pre>RandomizedSearchCV(estimator=RandomForestRegressor(random_state=17), n_iter=5,\n",
       "                   param_distributions={&#x27;max_depth&#x27;: &lt;scipy.stats._distn_infrastructure.rv_discrete_frozen object at 0x000001256A525220&gt;,\n",
       "                                        &#x27;n_estimators&#x27;: &lt;scipy.stats._distn_infrastructure.rv_discrete_frozen object at 0x000001256A43E8B0&gt;},\n",
       "                   random_state=17)</pre></div></div></div><div class=\"sk-parallel\"><div class=\"sk-parallel-item\"><div class=\"sk-item\"><div class=\"sk-label-container\"><div class=\"sk-label sk-toggleable\"><input class=\"sk-toggleable__control sk-hidden--visually\" id=\"sk-estimator-id-2\" type=\"checkbox\" ><label for=\"sk-estimator-id-2\" class=\"sk-toggleable__label sk-toggleable__label-arrow\">estimator: RandomForestRegressor</label><div class=\"sk-toggleable__content\"><pre>RandomForestRegressor(random_state=17)</pre></div></div></div><div class=\"sk-serial\"><div class=\"sk-item\"><div class=\"sk-estimator sk-toggleable\"><input class=\"sk-toggleable__control sk-hidden--visually\" id=\"sk-estimator-id-3\" type=\"checkbox\" ><label for=\"sk-estimator-id-3\" class=\"sk-toggleable__label sk-toggleable__label-arrow\">RandomForestRegressor</label><div class=\"sk-toggleable__content\"><pre>RandomForestRegressor(random_state=17)</pre></div></div></div></div></div></div></div></div></div></div>"
      ],
      "text/plain": [
       "RandomizedSearchCV(estimator=RandomForestRegressor(random_state=17), n_iter=5,\n",
       "                   param_distributions={'max_depth': <scipy.stats._distn_infrastructure.rv_discrete_frozen object at 0x000001256A525220>,\n",
       "                                        'n_estimators': <scipy.stats._distn_infrastructure.rv_discrete_frozen object at 0x000001256A43E8B0>},\n",
       "                   random_state=17)"
      ]
     },
     "execution_count": 32,
     "metadata": {},
     "output_type": "execute_result"
    }
   ],
   "source": [
    "search.fit(X_train, y_train)"
   ]
  },
  {
   "cell_type": "code",
   "execution_count": 33,
   "id": "1b15be6c",
   "metadata": {},
   "outputs": [
    {
     "data": {
      "text/plain": [
       "{'max_depth': 9, 'n_estimators': 4}"
      ]
     },
     "execution_count": 33,
     "metadata": {},
     "output_type": "execute_result"
    }
   ],
   "source": [
    "search.best_params_"
   ]
  },
  {
   "cell_type": "code",
   "execution_count": 34,
   "id": "d36512b3",
   "metadata": {},
   "outputs": [
    {
     "data": {
      "text/plain": [
       "0.7332258354679708"
      ]
     },
     "execution_count": 34,
     "metadata": {},
     "output_type": "execute_result"
    }
   ],
   "source": [
    "search.score(X_test, y_test)"
   ]
  }
 ],
 "metadata": {
  "kernelspec": {
   "display_name": "Python 3 (ipykernel)",
   "language": "python",
   "name": "python3"
  },
  "language_info": {
   "codemirror_mode": {
    "name": "ipython",
    "version": 3
   },
   "file_extension": ".py",
   "mimetype": "text/x-python",
   "name": "python",
   "nbconvert_exporter": "python",
   "pygments_lexer": "ipython3",
   "version": "3.9.1"
  }
 },
 "nbformat": 4,
 "nbformat_minor": 5
}
