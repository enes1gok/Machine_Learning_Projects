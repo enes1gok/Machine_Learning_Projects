{
 "cells": [
  {
   "cell_type": "code",
   "execution_count": 1,
   "id": "741af9d3",
   "metadata": {},
   "outputs": [],
   "source": [
    "import numpy as np\n",
    "import pandas as pd\n",
    "import matplotlib.pyplot as plt"
   ]
  },
  {
   "cell_type": "code",
   "execution_count": 2,
   "id": "420b18eb",
   "metadata": {},
   "outputs": [],
   "source": [
    "data = pd.read_csv('tennis_data.csv')"
   ]
  },
  {
   "cell_type": "code",
   "execution_count": 7,
   "id": "486b4266",
   "metadata": {},
   "outputs": [
    {
     "data": {
      "text/plain": [
       "array([['no'],\n",
       "       ['no'],\n",
       "       ['yes'],\n",
       "       ['yes'],\n",
       "       ['yes'],\n",
       "       ['no'],\n",
       "       ['yes'],\n",
       "       ['no'],\n",
       "       ['yes'],\n",
       "       ['yes'],\n",
       "       ['yes'],\n",
       "       ['yes'],\n",
       "       ['yes'],\n",
       "       ['no']], dtype=object)"
      ]
     },
     "execution_count": 7,
     "metadata": {},
     "output_type": "execute_result"
    }
   ],
   "source": [
    "from sklearn.preprocessing import LabelEncoder\n",
    "le = LabelEncoder()\n",
    "play = data.iloc[:, -1:].values\n",
    "play = "
   ]
  },
  {
   "cell_type": "code",
   "execution_count": null,
   "id": "367c14be",
   "metadata": {},
   "outputs": [],
   "source": []
  }
 ],
 "metadata": {
  "kernelspec": {
   "display_name": "Python 3 (ipykernel)",
   "language": "python",
   "name": "python3"
  },
  "language_info": {
   "codemirror_mode": {
    "name": "ipython",
    "version": 3
   },
   "file_extension": ".py",
   "mimetype": "text/x-python",
   "name": "python",
   "nbconvert_exporter": "python",
   "pygments_lexer": "ipython3",
   "version": "3.9.1"
  }
 },
 "nbformat": 4,
 "nbformat_minor": 5
}
