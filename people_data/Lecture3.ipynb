{
 "cells": [
  {
   "cell_type": "code",
   "execution_count": 43,
   "id": "6f1fd2e6",
   "metadata": {},
   "outputs": [],
   "source": [
    "import numpy as np\n",
    "import pandas as pd\n",
    "import matplotlib.pyplot as plt"
   ]
  },
  {
   "cell_type": "code",
   "execution_count": 44,
   "id": "96228b80",
   "metadata": {},
   "outputs": [],
   "source": [
    "data = pd.read_csv('people_data.csv')"
   ]
  },
  {
   "cell_type": "code",
   "execution_count": 45,
   "id": "e4eb0b64",
   "metadata": {},
   "outputs": [],
   "source": [
    "from sklearn.impute import SimpleImputer\n",
    "\n",
    "imputer = SimpleImputer(missing_values=np.nan, strategy='mean')\n",
    "age = data.iloc[:,1:4]\n",
    "\n",
    "imputer = imputer.fit(age)\n",
    "age = imputer.transform(age)\n",
    "\n",
    "country = data.iloc[:,0:1].values\n",
    "\n",
    "from sklearn.preprocessing import LabelEncoder\n",
    "\n",
    "le = LabelEncoder()\n",
    "country[:,0] = le.fit_transform(data.iloc[:,0])\n",
    "\n",
    "from sklearn.preprocessing import OneHotEncoder\n",
    "\n",
    "ohe = OneHotEncoder()\n",
    "country = ohe.fit_transform(country).toarray()\n",
    "\n",
    "gender = data.iloc[:,-1:].values\n",
    "\n",
    "gender[:,-1] = le.fit_transform(data.iloc[:,-1])\n",
    "\n",
    "gender = ohe.fit_transform(gender).toarray()"
   ]
  },
  {
   "cell_type": "code",
   "execution_count": 46,
   "id": "607bd0c4",
   "metadata": {},
   "outputs": [],
   "source": [
    "country = pd.DataFrame(data = country, index=range(22), columns=['fr', 'tr', 'us'])\n",
    "\n",
    "age = pd.DataFrame(data = age, index=range(22), columns=['boy', 'kilo', 'yas'])\n",
    "\n",
    "gender = pd.DataFrame(data = gender[:,:1], index=range(22), columns=['cinsiyet'])\n",
    "\n",
    "table = pd.concat([country, age], axis = 1)\n",
    "aim = pd.concat([table, gender], axis = 1)"
   ]
  },
  {
   "cell_type": "code",
   "execution_count": 47,
   "id": "4eb35c90",
   "metadata": {},
   "outputs": [],
   "source": [
    "from sklearn.model_selection import train_test_split\n",
    "\n",
    "X_train, X_test, y_train, y_test = train_test_split(table, gender, test_size=0.33, random_state=17)"
   ]
  },
  {
   "cell_type": "code",
   "execution_count": 67,
   "id": "df07f2a9",
   "metadata": {},
   "outputs": [
    {
     "data": {
      "text/plain": [
       "array([[123.0408392 ],\n",
       "       [164.96538758],\n",
       "       [205.76686485],\n",
       "       [146.6698909 ],\n",
       "       [189.0031785 ],\n",
       "       [134.92383025],\n",
       "       [154.64596837],\n",
       "       [139.34921415]])"
      ]
     },
     "execution_count": 67,
     "metadata": {},
     "output_type": "execute_result"
    }
   ],
   "source": [
    "from sklearn.linear_model import LinearRegression\n",
    "\n",
    "lr = LinearRegression()\n",
    "\n",
    "height = aim.iloc[:,3:4]\n",
    "right_of_height = aim.iloc[:,:3]\n",
    "left_of_height = aim.iloc[:,4:]\n",
    "\n",
    "my_data = pd.concat([left_of_height, right_of_height], axis = 1)\n",
    "\n",
    "X_train, X_test, y_train, y_test = train_test_split(my_data, height, test_size=0.33, random_state=17)\n",
    "lr.fit(X_train, y_train)\n",
    "prediction = lr.predict(X_test)\n",
    "prediction"
   ]
  },
  {
   "cell_type": "code",
   "execution_count": 71,
   "id": "3d4b5a0e",
   "metadata": {},
   "outputs": [
    {
     "data": {
      "text/html": [
       "<div>\n",
       "<style scoped>\n",
       "    .dataframe tbody tr th:only-of-type {\n",
       "        vertical-align: middle;\n",
       "    }\n",
       "\n",
       "    .dataframe tbody tr th {\n",
       "        vertical-align: top;\n",
       "    }\n",
       "\n",
       "    .dataframe thead th {\n",
       "        text-align: right;\n",
       "    }\n",
       "</style>\n",
       "<table border=\"1\" class=\"dataframe\">\n",
       "  <thead>\n",
       "    <tr style=\"text-align: right;\">\n",
       "      <th></th>\n",
       "      <th>0</th>\n",
       "      <th>boy</th>\n",
       "    </tr>\n",
       "  </thead>\n",
       "  <tbody>\n",
       "    <tr>\n",
       "      <th>0</th>\n",
       "      <td>123.040839</td>\n",
       "      <td>130.0</td>\n",
       "    </tr>\n",
       "    <tr>\n",
       "      <th>1</th>\n",
       "      <td>164.965388</td>\n",
       "      <td>NaN</td>\n",
       "    </tr>\n",
       "    <tr>\n",
       "      <th>2</th>\n",
       "      <td>205.766865</td>\n",
       "      <td>135.0</td>\n",
       "    </tr>\n",
       "    <tr>\n",
       "      <th>3</th>\n",
       "      <td>146.669891</td>\n",
       "      <td>133.0</td>\n",
       "    </tr>\n",
       "    <tr>\n",
       "      <th>4</th>\n",
       "      <td>189.003178</td>\n",
       "      <td>NaN</td>\n",
       "    </tr>\n",
       "    <tr>\n",
       "      <th>5</th>\n",
       "      <td>134.923830</td>\n",
       "      <td>180.0</td>\n",
       "    </tr>\n",
       "    <tr>\n",
       "      <th>6</th>\n",
       "      <td>154.645968</td>\n",
       "      <td>NaN</td>\n",
       "    </tr>\n",
       "    <tr>\n",
       "      <th>7</th>\n",
       "      <td>139.349214</td>\n",
       "      <td>NaN</td>\n",
       "    </tr>\n",
       "    <tr>\n",
       "      <th>12</th>\n",
       "      <td>NaN</td>\n",
       "      <td>160.0</td>\n",
       "    </tr>\n",
       "    <tr>\n",
       "      <th>9</th>\n",
       "      <td>NaN</td>\n",
       "      <td>185.0</td>\n",
       "    </tr>\n",
       "    <tr>\n",
       "      <th>19</th>\n",
       "      <td>NaN</td>\n",
       "      <td>159.0</td>\n",
       "    </tr>\n",
       "    <tr>\n",
       "      <th>11</th>\n",
       "      <td>NaN</td>\n",
       "      <td>155.0</td>\n",
       "    </tr>\n",
       "  </tbody>\n",
       "</table>\n",
       "</div>"
      ],
      "text/plain": [
       "             0    boy\n",
       "0   123.040839  130.0\n",
       "1   164.965388    NaN\n",
       "2   205.766865  135.0\n",
       "3   146.669891  133.0\n",
       "4   189.003178    NaN\n",
       "5   134.923830  180.0\n",
       "6   154.645968    NaN\n",
       "7   139.349214    NaN\n",
       "12         NaN  160.0\n",
       "9          NaN  185.0\n",
       "19         NaN  159.0\n",
       "11         NaN  155.0"
      ]
     },
     "execution_count": 71,
     "metadata": {},
     "output_type": "execute_result"
    }
   ],
   "source": []
  },
  {
   "cell_type": "code",
   "execution_count": null,
   "id": "368ea839",
   "metadata": {},
   "outputs": [],
   "source": []
  }
 ],
 "metadata": {
  "kernelspec": {
   "display_name": "Python 3 (ipykernel)",
   "language": "python",
   "name": "python3"
  },
  "language_info": {
   "codemirror_mode": {
    "name": "ipython",
    "version": 3
   },
   "file_extension": ".py",
   "mimetype": "text/x-python",
   "name": "python",
   "nbconvert_exporter": "python",
   "pygments_lexer": "ipython3",
   "version": "3.9.1"
  }
 },
 "nbformat": 4,
 "nbformat_minor": 5
}
